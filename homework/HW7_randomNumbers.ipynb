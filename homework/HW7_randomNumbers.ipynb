{
 "cells": [
  {
   "cell_type": "code",
   "execution_count": 8,
   "metadata": {
    "scrolled": true
   },
   "outputs": [
    {
     "data": {
      "image/png": "[encoded data removed]",
      "text/plain": [
       "<Figure size 432x288 with 1 Axes>"
      ]
     },
     "metadata": {},
     "output_type": "display_data"
    },
    {
     "name": "stdout",
     "output_type": "stream",
     "text": [
      "0.9617391537973146  with scypy integration\n",
      "0.9627168  Monte Carlo integration\n"
     ]
    }
   ],
   "source": [
    "# Daniel Schacher   Phys300\n",
    "\n",
    "import matplotlib.pyplot as plt\n",
    "import numpy as np\n",
    "from scipy import integrate\n",
    "import random\n",
    "from sympy.solvers import solve\n",
    "from sympy import Symbol\n",
    "%matplotlib inline\n",
    "\n",
    "\n",
    "fig1 = plt.figure()\n",
    "ax1 = fig1.add_subplot(111, aspect='equal')\n",
    "\n",
    "x1 = np.linspace(0,2,100)\n",
    "y1 = np.sqrt(1-(x1-1)**2)\n",
    "ax1.plot(x1,y1,'k')\n",
    "\n",
    "y2 = 2-np.sqrt(4-x1**2)\n",
    "ax1.plot(x1,y2,'k')\n",
    "ax1.set_xlim(0,2)\n",
    "ax1.set_ylim(0,2)\n",
    "ax1.fill_between(x1, y1, y2, where=y1>y2, facecolor='green')\n",
    "\n",
    "plt.show()\n",
    "\n",
    "# Use sympy library to find the right bound for integration\n",
    "solvex = Symbol('x')\n",
    "solvey = solve(((1-(solvex-1)**2)**(1/2) - (2-(4-solvex**2)**(1/2))), solvex)\n",
    "rbound = float(solvey[1])\n",
    "\n",
    "# function 1\n",
    "def f(x):\n",
    "    return np.sqrt(1-(x-1)**2)\n",
    "\n",
    "# function 2\n",
    "def g(x):\n",
    "    return 2-np.sqrt(4-x**2)\n",
    "\n",
    "# monte carlo integration\n",
    "def Monte(N):\n",
    "    count = 0\n",
    "    for i in range(N):\n",
    "        x = (rbound)*random.random()\n",
    "        y = random.random()\n",
    "        if y<f(x) and y>g(x):\n",
    "            count += 1\n",
    "    I = (rbound)*count/N\n",
    "    return I\n",
    "\n",
    "# integration with scipy for compairison \n",
    "I1 = integrate.quad(f, 0 ,rbound)\n",
    "I2 = integrate.quad(g, 0 ,rbound)\n",
    "print(I1[0] - I2[0], ' with scypy integration')\n",
    "\n",
    "print(Monte(1000000), ' Monte Carlo integration')"
   ]
  }
 ],
 "metadata": {
  "kernelspec": {
   "display_name": "Python 3",
   "language": "python",
   "name": "python3"
  },
  "language_info": {
   "codemirror_mode": {
    "name": "ipython",
    "version": 3
   },
   "file_extension": ".py",
   "mimetype": "text/x-python",
   "name": "python",
   "nbconvert_exporter": "python",
   "pygments_lexer": "ipython3",
   "version": "3.6.5"
  }
 },
 "nbformat": 4,
 "nbformat_minor": 2
}
