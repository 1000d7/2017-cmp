{
 "cells": [
  {
   "cell_type": "code",
   "execution_count": 1,
   "metadata": {
    "scrolled": true
   },
   "outputs": [
    {
     "name": "stderr",
     "output_type": "stream",
     "text": [
      "/home/daniel/.local/lib/python3.6/site-packages/ipykernel_launcher.py:11: RuntimeWarning: divide by zero encountered in true_divide\n",
      "  # This is added back by InteractiveShellApp.init_path()\n"
     ]
    },
    {
     "data": {
      "image/png": "[encoded data removed]",
      "text/plain": [
       "<Figure size 432x288 with 1 Axes>"
      ]
     },
     "metadata": {},
     "output_type": "display_data"
    },
    {
     "name": "stdout",
     "output_type": "stream",
     "text": [
      "0.8389329600133858  with scypy integration\n",
      "0.7597415852851208  Importance sample Monte Carlo integration\n"
     ]
    }
   ],
   "source": [
    "# Daniel Schacher   Phys300\n",
    "\n",
    "import matplotlib.pyplot as plt\n",
    "import numpy as np\n",
    "from scipy import integrate\n",
    "import random\n",
    "%matplotlib inline\n",
    "\n",
    "# function 1\n",
    "def f(x):\n",
    "    return 1 / (np.sqrt(x) * (np.exp(x) + 1))\n",
    "\n",
    "# weight function\n",
    "def w(x):\n",
    "    return 1 / (np.sqrt(x))\n",
    "\n",
    "fig1 = plt.figure()\n",
    "ax1 = fig1.add_subplot(111, aspect='equal')\n",
    "x1 = np.linspace(0,2,100)\n",
    "y1 = f(x1)\n",
    "ax1.plot(x1, y1,'k')\n",
    "ax1.set_xlim(0,2)\n",
    "ax1.set_ylim(0,2)\n",
    "ax1.fill_between(x1, y1, facecolor='green')\n",
    "\n",
    "plt.show()\n",
    "\n",
    "rbound = 1\n",
    "\n",
    "def impsap(N):\n",
    "    s = 0\n",
    "    for i in range(N):\n",
    "        x = (rbound)*random.random()\n",
    "        s += f(x)/w(x)\n",
    "    I = (1 / N) * s * 2\n",
    "    return I\n",
    "\n",
    "# integration with scipy for compairison \n",
    "I1 = integrate.quad(f, 0 ,rbound)\n",
    "print(I1[0], ' with scypy integration')\n",
    "\n",
    "print(impsap(1000000), ' Importance sample Monte Carlo integration')"
   ]
  }
 ],
 "metadata": {
  "kernelspec": {
   "display_name": "Python 3",
   "language": "python",
   "name": "python3"
  },
  "language_info": {
   "codemirror_mode": {
    "name": "ipython",
    "version": 3
   },
   "file_extension": ".py",
   "mimetype": "text/x-python",
   "name": "python",
   "nbconvert_exporter": "python",
   "pygments_lexer": "ipython3",
   "version": "3.6.5"
  }
 },
 "nbformat": 4,
 "nbformat_minor": 2
}
