{
 "cells": [
  {
   "cell_type": "code",
   "execution_count": 1,
   "metadata": {},
   "outputs": [],
   "source": [
    "def factor(N):\n",
    "    if N == 0 or N == 1:\n",
    "        return 1\n",
    "    else: \n",
    "        total = 1\n",
    "        for i in range(2,N+1):\n",
    "            total *= i\n",
    "        return total     \n"
   ]
  },
  {
   "cell_type": "code",
   "execution_count": 16,
   "metadata": {},
   "outputs": [],
   "source": [
    "#finds the multiplicity of an einstein solid\n",
    "def einsteinsolid(N , q):\n",
    "    return factor(q+N-1)/(factor(q)*factor(N-1))\n",
    "    "
   ]
  },
  {
   "cell_type": "code",
   "execution_count": 21,
   "metadata": {},
   "outputs": [
    {
     "data": {
      "text/plain": [
       "3.0"
      ]
     },
     "execution_count": 21,
     "metadata": {},
     "output_type": "execute_result"
    }
   ],
   "source": [
    "einsteinsolid(3 ,1)"
   ]
  },
  {
   "cell_type": "code",
   "execution_count": 25,
   "metadata": {},
   "outputs": [],
   "source": [
    "#this function prints fibonacci sequence up to a given number of terms\n",
    "def fibo(N):\n",
    "    Fib_series = []\n",
    "    \n",
    "   \n",
    "    for i in range(0, N ):\n",
    "        if len(fib_series) <= 1:\n",
    "            fib_series.append(1)\n",
    "        else:\n",
    "            fib_series.append(fib_series[-1] + fib_series[-2])\n",
    "    return fib_series\n"
   ]
  },
  {
   "cell_type": "code",
   "execution_count": 26,
   "metadata": {},
   "outputs": [
    {
     "data": {
      "text/plain": [
       "[1, 1, 2, 3, 5, 8, 13, 21, 34, 55]"
      ]
     },
     "execution_count": 26,
     "metadata": {},
     "output_type": "execute_result"
    }
   ],
   "source": [
    "fibo(10)"
   ]
  }
 ],
 "metadata": {
  "kernelspec": {
   "display_name": "Python 3",
   "language": "python",
   "name": "python3"
  },
  "language_info": {
   "codemirror_mode": {
    "name": "ipython",
    "version": 3
   },
   "file_extension": ".py",
   "mimetype": "text/x-python",
   "name": "python",
   "nbconvert_exporter": "python",
   "pygments_lexer": "ipython3",
   "version": "3.6.5"
  }
 },
 "nbformat": 4,
 "nbformat_minor": 2
}
