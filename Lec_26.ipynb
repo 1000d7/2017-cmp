{
 "cells": [
  {
   "cell_type": "markdown",
   "metadata": {},
   "source": [
    "# Physics 300 \n",
    "## Computational Physics I (Fall 2017)\n",
    "## BPB-248, Tues/Thurs 10:00 - 11:15 am \n",
    "\n",
    "|Instructor| Prof. Qiang Zhu|\n",
    "|--|-------------------------------|\n",
    "|Email | qiang.zhu@unlv.edu|\n",
    "|Website|http://www.physics.unlv.edu/~qzhu/|\n",
    "|Office| BPB 232|\n",
    "|Office hours | Tues/Thurs 8:30 - 10:00 |"
   ]
  },
  {
   "cell_type": "markdown",
   "metadata": {},
   "source": [
    "# 25 Machine Learning (II)\n",
    "\n",
    "## 25.1 Artificial Neural Networks"
   ]
  },
  {
   "cell_type": "code",
   "execution_count": 27,
   "metadata": {},
   "outputs": [
    {
     "data": {
      "image/png": "[encoded data removed]",
      "text/plain": [
       "<matplotlib.figure.Figure at 0x2188b387438>"
      ]
     },
     "metadata": {},
     "output_type": "display_data"
    }
   ],
   "source": [
    "import matplotlib.pyplot as plt\n",
    "\n",
    "x = np.array([[1,1,2],[1,1,3],[1,1,5],[1,2,3],[1,2,4],[1,7,4],[1,5,6],[1,8,6],[1,9,7],[1,4,9.5]])\n",
    "t = np.array([0,0,0,0,0,1,1,1,1,1])\n",
    "plt.scatter(x[:,1],x[:,2], c=t)\n",
    "plt.show()\n"
   ]
  },
  {
   "cell_type": "code",
   "execution_count": 50,
   "metadata": {},
   "outputs": [],
   "source": [
    "import numpy as np\n",
    "\n",
    "def sigmoid(v):\n",
    "    return 1./(1+np.exp(-v))\n",
    "\n",
    "\n",
    "def singleNeuron(x, t, max_iter = 8000):\n",
    "    \n",
    "    w0 = np.array([1,1,1])\n",
    "    w_hist = np.zeros([max_iter,3])\n",
    "    learning_rate = 0.01\n",
    "    decay_rate = 0.0\n",
    "\n",
    "    for i in range(max_iter):\n",
    "        a = np.dot(x,w0)\n",
    "        y = sigmoid(a)\n",
    "        g = -np.dot(np.transpose(x),t-y)\n",
    "        w0 = w0 - learning_rate*(g + decay_rate*w0)\n",
    "        w_hist[i,:] = w0\n",
    "    return w_hist\n",
    "\n",
    "def results(x, w0):\n",
    "    for x0 in x:\n",
    "        print(sigmoid(w0[0] + w0[1]*x0[1]+w0[2]*x0[2]))"
   ]
  },
  {
   "cell_type": "code",
   "execution_count": 51,
   "metadata": {},
   "outputs": [],
   "source": [
    "w_hist = singleNeuron(x, t)"
   ]
  },
  {
   "cell_type": "code",
   "execution_count": 52,
   "metadata": {},
   "outputs": [
    {
     "name": "stdout",
     "output_type": "stream",
     "text": [
      "0.971860800012\n",
      "0.987540896252\n",
      "0.99761031473\n",
      "0.995048449601\n",
      "0.997836383208\n",
      "0.999979301526\n",
      "0.999974738805\n",
      "0.999998449899\n",
      "0.99999973359\n",
      "0.999996502303\n"
     ]
    }
   ],
   "source": [
    "results(x, w_hist[0])"
   ]
  },
  {
   "cell_type": "code",
   "execution_count": 53,
   "metadata": {},
   "outputs": [
    {
     "name": "stdout",
     "output_type": "stream",
     "text": [
      "0.00105729613699\n",
      "0.00174218596535\n",
      "0.00472266736881\n",
      "0.0187549150045\n",
      "0.0305532416454\n",
      "0.999798650689\n",
      "0.991194045052\n",
      "0.99999323672\n",
      "0.999999625477\n",
      "0.983379665113\n"
     ]
    }
   ],
   "source": [
    "results(x, w_hist[-1])"
   ]
  },
  {
   "cell_type": "code",
   "execution_count": 54,
   "metadata": {},
   "outputs": [
    {
     "data": {
      "image/png": "[encoded data removed]",
      "text/plain": [
       "<matplotlib.figure.Figure at 0x2188b5993c8>"
      ]
     },
     "metadata": {},
     "output_type": "display_data"
    }
   ],
   "source": [
    "import matplotlib.pyplot as plt\n",
    "\n",
    "def plane(x,w):\n",
    "    return (-w[0] - x*w[1])/w[2]\n",
    "plt.scatter(x[:,1],x[:,2], c=t)\n",
    "\n",
    "x0 = np.linspace(0,10,20)\n",
    "y0 = plane(x0, w_hist[0])\n",
    "plt.plot(x0, y0, label='initial')\n",
    "y0 = plane(x0, w_hist[-1])\n",
    "plt.plot(x0, y0, label='final')\n",
    "plt.legend()\n",
    "plt.show()\n"
   ]
  },
  {
   "cell_type": "code",
   "execution_count": null,
   "metadata": {
    "collapsed": true
   },
   "outputs": [],
   "source": [
    "import matplotlib.animation as animation\n",
    "from JSAnimation.IPython_display import display_animation\n",
    "\n",
    "fig = plt.figure()\n",
    "ax = plt.axes(xlim=(0,10), ylim=(-25,20), xlabel='x1', ylabel='x2')\n",
    "ax.scatter(x[:,1], x[:,2], c=t)\n",
    "w0 = np.array([1,1,1])\n",
    "points, = ax.plot([], [])\n",
    "\n",
    "def evolve(i):\n",
    "    x0 = np.linspace(0,10,20)\n",
    "    w = w_hist[i]\n",
    "    y0 = plane(x0, w)\n",
    "    points.set_data(x0,y0)\n",
    "    return points\n",
    "\n",
    "anim = animation.FuncAnimation(fig, evolve, frames = len(w_hist), interval = 10)\n",
    "display_animation(anim, default_mode = 'once')\n",
    "    "
   ]
  },
  {
   "cell_type": "code",
   "execution_count": null,
   "metadata": {
    "collapsed": true
   },
   "outputs": [],
   "source": []
  }
 ],
 "metadata": {
  "kernelspec": {
   "display_name": "Python 3",
   "language": "python",
   "name": "python3"
  },
  "language_info": {
   "codemirror_mode": {
    "name": "ipython",
    "version": 3
   },
   "file_extension": ".py",
   "mimetype": "text/x-python",
   "name": "python",
   "nbconvert_exporter": "python",
   "pygments_lexer": "ipython3",
   "version": "3.6.1"
  }
 },
 "nbformat": 4,
 "nbformat_minor": 2
}
