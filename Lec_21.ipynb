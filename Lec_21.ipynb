{
 "cells": [
  {
   "cell_type": "markdown",
   "metadata": {},
   "source": [
    "# Physics 300 \n",
    "## Computational Physics I (Fall 2017)\n",
    "## BPB-248, Tues/Thurs 10:00 - 11:15 am \n",
    "\n",
    "|Instructor| Prof. Qiang Zhu|\n",
    "|--|-------------------------------|\n",
    "|Email | qiang.zhu@unlv.edu|\n",
    "|Website|http://www.physics.unlv.edu/~qzhu/|\n",
    "|Office| BPB 232|\n",
    "|Office hours | Tues/Thurs 8:30 - 10:00 |"
   ]
  },
  {
   "cell_type": "markdown",
   "metadata": {},
   "source": [
    "# 21 Global Optmization (III)\n",
    "\n",
    "## 21.1 Simulated Annealing\n",
    "\n",
    "Simulated Annealing is a very populare optimization algorithm \n",
    "because it’s very robust to different types of functions (e.g. no continuity, differentiability or dimensionality requirements) and can find global minima/maxima.\n",
    "\n",
    "Simulated annealing mimics a phenomenon in nature--the annealing of solid metals--to optimize a complex system. \n",
    "Annealing refers to heating a solid and then cooling it slowly. \n",
    "Atoms then assume a nearly globally minimum energy state. \n",
    "The simulated annealing algorithm simulates a small random displacement of an atom that results in a change in energy. \n",
    "- If the change in energy is negative, the energy state of the new configuration is lower and the new configuration is accepted. \n",
    "- If the change in energy is positive, the new configuration has a higher energy state may or not be accepted. \n",
    "\n",
    "The acceptance rate is according to the Boltzmann probability factor:\n",
    "$$ P = \\exp(\\frac{-\\Delta E}{kT}) $$\n"
   ]
  },
  {
   "cell_type": "markdown",
   "metadata": {},
   "source": [
    "# 21.2 The basic algorithm\n",
    "Here's a really high-level overview. It skips some very important details, which we'll get to in a moment.\n",
    "\n",
    "- 1, generate a random solution\n",
    "- 2, evaluate the objective function\n",
    "- 3, generate a random neighboring solution\n",
    "- 4, evluate the objective function for the new solution\n",
    "- 5, Compare them:\n",
    "    * 5.1 If Obj(new) < Obj(old): move to the new solution\n",
    "    * 5.2 If Obj(new) > Obj(old): maybe move to the new solution\n",
    "- 6 Repeat steps 3-5 above until an acceptable solution is found or you reach some maximum number of iterations.\n",
    "\n"
   ]
  },
  {
   "cell_type": "markdown",
   "metadata": {},
   "source": [
    "# 21.3 Application to LJ clusters\n",
    "\n",
    "To get started, let us firstly copy the code to calculating the energy from Lec_20."
   ]
  },
  {
   "cell_type": "code",
   "execution_count": 1,
   "metadata": {
    "collapsed": true
   },
   "outputs": [],
   "source": [
    "import numpy as np\n",
    "\n",
    "def LJ(r):\n",
    "    r6 = r**6\n",
    "    r12 = r6*r6\n",
    "    return 4*(1/r12 - 1/r6)\n",
    "\n",
    "def total_energy(positions):\n",
    "    \"\"\"\n",
    "    Calculate the total energy\n",
    "    input:\n",
    "    positions: 3*N array which represents the atomic positions\n",
    "    output\n",
    "    E: the total energy\n",
    "    \"\"\"\n",
    "    E = 0\n",
    "    N_atom = int(len(positions)/3)\n",
    "\n",
    "    #positions = [x0, y0, z0, x1, y1, z1, .....  , xn, yn, zn]\n",
    "    for i in range(N_atom-1):\n",
    "        for j in range(i+1, N_atom):\n",
    "            pos1 = positions[i*3:(i+1)*3]\n",
    "            pos2 = positions[j*3:(j+1)*3]\n",
    "            #print('pos1:  ', pos1)\n",
    "            #print('pos2:  ', pos2)\n",
    "            dist = np.linalg.norm(pos1-pos2)\n",
    "            #print(i,j, dist)\n",
    "            E += LJ(dist)\n",
    "    return E\n",
    "            \n",
    "def init_pos(N, L=5):\n",
    "    return L*np.random.random_sample((N*3,))\n"
   ]
  },
  {
   "cell_type": "markdown",
   "metadata": {},
   "source": [
    "In order to implement the simulated annealing algorithm, we need to construct three functions:\n",
    "- 1, generate the neighboring solution based on the current position\n",
    "- 2, calculate the accepetance rate based on the objective difference\n",
    "- 3, the actual simulated annealing algorithm"
   ]
  },
  {
   "cell_type": "code",
   "execution_count": 37,
   "metadata": {
    "collapsed": true
   },
   "outputs": [],
   "source": [
    "def neighbor(pos_now, scale=0.1):\n",
    "    N = len(pos_now)\n",
    "    return pos_now + scale*np.random.random_sample((N,))\n",
    "\n",
    "def acceptance_probability(dE, kT):\n",
    "    if dE<0:\n",
    "        return 1\n",
    "    else:\n",
    "        return np.exp(-dE/kT)\n"
   ]
  },
  {
   "cell_type": "code",
   "execution_count": 39,
   "metadata": {},
   "outputs": [
    {
     "name": "stdout",
     "output_type": "stream",
     "text": [
      "accept new energy:  -3.10489408801  acceptance ratio:  1\n",
      "accept new energy:  -3.39504654568  acceptance ratio:  1\n",
      "accept new energy:  -3.37026974717  acceptance ratio:  0.60924428292\n",
      "accept new energy:  -3.42761466705  acceptance ratio:  1\n",
      "accept new energy:  -3.42461163453  acceptance ratio:  0.941707416897\n",
      "accept new energy:  -3.44030024353  acceptance ratio:  1\n",
      "accept new energy:  -3.45996784933  acceptance ratio:  1\n",
      "accept new energy:  -3.36920431089  acceptance ratio:  0.162793822954\n",
      "accept new energy:  -3.37100368335  acceptance ratio:  1\n",
      "accept new energy:  -3.41253749164  acceptance ratio:  1\n"
     ]
    },
    {
     "data": {
      "text/plain": [
       "(array([ 2.27464591,  1.73461432,  1.89347615,  2.24758197,  4.99898185,\n",
       "         4.94564945,  4.70850445,  1.73419175,  3.63527259,  2.63926024,\n",
       "         1.58000396,  4.87924945,  4.10516808,  2.50890201,  4.28842717,\n",
       "         4.51174863,  0.7419458 ,  4.17961299,  4.61442305,  1.42616941,\n",
       "         2.54582493,  4.79005769,  4.15522563,  1.25597216]),\n",
       " -3.4125374916391045,\n",
       " 10)"
      ]
     },
     "execution_count": 39,
     "metadata": {},
     "output_type": "execute_result"
    }
   ],
   "source": [
    "def simulated_annealling_v1(N_atom=8, Max_iteration=10):\n",
    "    kT = 0.05\n",
    "    pos_now = init_pos(8)\n",
    "    obj_now = total_energy(pos_now)\n",
    "    accept_count = 0\n",
    "\n",
    "    for i in range(Max_iteration):\n",
    "        pos_new = neighbor(pos_now)\n",
    "        obj_new = total_energy(pos_new)\n",
    "        ap = acceptance_probability(obj_new-obj_now, kT)\n",
    "        if ap > np.random.random():\n",
    "            print('accept new energy: ', obj_new, ' acceptance ratio: ', ap)\n",
    "            obj_now = obj_new\n",
    "            pos_now = pos_new\n",
    "            accept_count += 1\n",
    "    return pos_now, obj_now, accept_count\n",
    "\n",
    "simulated_annealling_v1(N_atom=5, Max_iteration=20)"
   ]
  },
  {
   "cell_type": "markdown",
   "metadata": {},
   "source": [
    "## Quiz\n",
    "The above code only evaluates the total energy for the given position. As we mentioned,\n",
    "a better way is to perform local optmization on each position.\n",
    "How to adapt the code to make it work?"
   ]
  },
  {
   "cell_type": "code",
   "execution_count": null,
   "metadata": {
    "collapsed": true
   },
   "outputs": [],
   "source": [
    "# perform local optmization in SA code\n",
    "\n",
    "def simulated_annealling_v2(N_atom=8, Max_iteration=10):\n",
    "    kT = 0.05\n",
    "    pos_now = init_pos(8)\n",
    "    # -------------Complete your code here -----------\n",
    "    obj_now = \n",
    "    # -------------Complete your code here -----------\n",
    "    accept_count = 0\n",
    "\n",
    "    for i in range(Max_iteration):\n",
    "        pos_new = neighbor(pos_now)\n",
    "        # -------------Complete your code here -----------\n",
    "        obj_new = \n",
    "        # -------------Complete your code here -----------\n",
    "        ap = acceptance_probability(obj_new-obj_now, kT)\n",
    "        if ap > np.random.random():\n",
    "            print('accept new energy: ', obj_new, ' acceptance ratio: ', ap)\n",
    "            obj_now = obj_new\n",
    "            pos_now = pos_new\n",
    "            accept_count += 1\n",
    "    return pos_now, obj_now, accept_count\n",
    "\n",
    "simulated_annealling_v2(N_atom=5, Max_iteration=20)"
   ]
  },
  {
   "cell_type": "markdown",
   "metadata": {},
   "source": [
    "# 21.4 The meaning of kT\n",
    "\n"
   ]
  },
  {
   "cell_type": "markdown",
   "metadata": {},
   "source": [
    "# 21.5 Variable kT in optimization\n",
    "\n"
   ]
  },
  {
   "cell_type": "code",
   "execution_count": null,
   "metadata": {
    "collapsed": true
   },
   "outputs": [],
   "source": []
  }
 ],
 "metadata": {
  "kernelspec": {
   "display_name": "Python 3",
   "language": "python",
   "name": "python3"
  },
  "language_info": {
   "codemirror_mode": {
    "name": "ipython",
    "version": 3
   },
   "file_extension": ".py",
   "mimetype": "text/x-python",
   "name": "python",
   "nbconvert_exporter": "python",
   "pygments_lexer": "ipython3",
   "version": "3.6.0"
  }
 },
 "nbformat": 4,
 "nbformat_minor": 2
}
