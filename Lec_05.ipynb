{
 "cells": [
  {
   "cell_type": "markdown",
   "metadata": {},
   "source": [
    "# Physics 300 \n",
    "## Computational Physics I (Fall 2017), BPB-248, Tues/Thurs 10:00 - 11:15 am \n",
    "\n",
    "|Instructor| Prof. Qiang Zhu|\n",
    "|--|-------------------------------|\n",
    "|Email | qiang.zhu@unlv.edu|\n",
    "|Website|http://www.physics.unlv.edu/~qzhu/|\n",
    "|Office| BPB 232|\n",
    "|Office hours | Tues/Thurs 8:30 - 10:00 |"
   ]
  },
  {
   "cell_type": "markdown",
   "metadata": {},
   "source": [
    "# 5 Integrals\n",
    "In the following lecture, we will start to learn about the ideas of computational physics and \n",
    "apply the python programing to solve the real problems.\n",
    "\n",
    "One of the most basic but also most important applications of computers\n",
    "in physics is the evaluation of integrals and derivatives.\n",
    "\n",
    "As we have learned in the calculus class, we can derive the analytical integrals for a lot of functions \n",
    "such as linear, quadratic, ploynomial, triangle functions. But most of functions cannot. \n",
    "__They can, however, almost always be done on a computer.__\n"
   ]
  },
  {
   "cell_type": "code",
   "execution_count": 9,
   "metadata": {},
   "outputs": [
    {
     "data": {
      "image/png": "[encoded data removed]",
      "text/plain": [
       "<matplotlib.figure.Figure at 0x188bf1bdbe0>"
      ]
     },
     "metadata": {},
     "output_type": "display_data"
    }
   ],
   "source": [
    "# Let's start with a simple example, try to do integration on x^2 over [0,3]\n",
    "import matplotlib.pyplot as plt\n",
    "import numpy as np\n",
    "\n",
    "x = np.linspace(0,3,100)\n",
    "y = x*x\n",
    "plt.plot(x,y)\n",
    "plt.xlabel('x')\n",
    "plt.ylabel('$x^2$')\n",
    "plt.xlim([0,3])\n",
    "plt.show()"
   ]
  },
  {
   "cell_type": "code",
   "execution_count": 10,
   "metadata": {},
   "outputs": [
    {
     "data": {
      "image/png": "[encoded data removed]",
      "text/plain": [
       "<matplotlib.figure.Figure at 0x188bef47ba8>"
      ]
     },
     "metadata": {},
     "output_type": "display_data"
    }
   ],
   "source": [
    "# Mathematically, the integral means the area under the curve\n",
    "x = np.linspace(0,3,100)\n",
    "y = x*x\n",
    "y0 = np.zeros(100)\n",
    "plt.plot(x,y)\n",
    "plt.xlabel('x')\n",
    "plt.ylabel('$x^2$')\n",
    "plt.xlim([0,3])\n",
    "plt.fill_between(x, y0, y, where=y>=y0, facecolor='green')\n",
    "plt.show()"
   ]
  },
  {
   "cell_type": "markdown",
   "metadata": {},
   "source": [
    "## Mathematically, the integral means the area under the curve\n",
    "\n",
    "Suppose we have a function $f(x)$ and we want to calculate its integral with\n",
    "respect to $x$ from $x$ = a to $x$ = b, which we denote I(a, b):\n",
    "\n",
    "$$ I(a,b) = \\int_a^b f(x)dx $$\n",
    "\n",
    "This is equivalent to calculating the area under the curve of f(x) from a to b.\n",
    "There is no known way to calculate such an area exactly in all cases on a computer.\n",
    "\n",
    "- how to estimate the area?\n",
    "- how to make it as accurate as possible?"
   ]
  },
  {
   "cell_type": "markdown",
   "metadata": {},
   "source": [
    "## 5.1 Rectangle rules\n",
    "\n",
    "The most straightforward way is to:\n",
    "- divide the area up into rectangular slices, \n",
    "- calculate the area of each one\n",
    "- add them up. \n",
    "\n",
    "This, however, is a pretty poor approximation. The area\n",
    "under the rectangles is not very close to the area under the curve."
   ]
  },
  {
   "cell_type": "code",
   "execution_count": 92,
   "metadata": {},
   "outputs": [],
   "source": [
    "import numpy as np\n",
    "import matplotlib.pyplot as plt\n",
    "\n",
    "def Rectangle(start, end, parts, plot=1):\n",
    "    \"\"\"\n",
    "    Rectrangle sum rule\n",
    "    \n",
    "    \"\"\"\n",
    "    #define the functions\n",
    "    f = lambda x: x * x  \n",
    "    \n",
    "    #define the parameters\n",
    "    deltax = (end - start) / parts\n",
    "    resultsx = np.linspace(start, end, parts)\n",
    "    resultsy = f(resultsx)\n",
    "    area = np.empty([parts], float)\n",
    "    \n",
    "    # To calculate the area\n",
    "    for i in range(parts):\n",
    "            area[i] = resultsy[i] * deltax\n",
    "    \n",
    "\n",
    "    # By default, we also output the plot.\n",
    "    if plot==1:\n",
    "        x = np.linspace(start,end,100)\n",
    "        y = x*x        \n",
    "        plt.plot(x, y, 'r')\n",
    "        plt.xlim([start,end])\n",
    "        plt.bar(resultsx+deltax/2, resultsy, deltax, edgecolor ='black')\n",
    "        #plt.bar(resultsx, resultsy, deltax, edgecolor ='black')\n",
    "        plt.show()\n",
    "        print(\"The Sum of the area is: \", sum(area))\n",
    "    \n",
    "    return sum(area)"
   ]
  },
  {
   "cell_type": "code",
   "execution_count": 93,
   "metadata": {},
   "outputs": [
    {
     "data": {
      "image/png": "[encoded data removed]",
      "text/plain": [
       "<matplotlib.figure.Figure at 0x188bf30e4a8>"
      ]
     },
     "metadata": {},
     "output_type": "display_data"
    },
    {
     "name": "stdout",
     "output_type": "stream",
     "text": [
      "The Sum of the area is:  9.5\n"
     ]
    },
    {
     "data": {
      "text/plain": [
       "9.4999999999999982"
      ]
     },
     "execution_count": 93,
     "metadata": {},
     "output_type": "execute_result"
    }
   ],
   "source": [
    "Rectangle(0,3,10)"
   ]
  },
  {
   "cell_type": "code",
   "execution_count": 94,
   "metadata": {},
   "outputs": [
    {
     "data": {
      "image/png": "[encoded data removed]",
      "text/plain": [
       "<matplotlib.figure.Figure at 0x188bf059ef0>"
      ]
     },
     "metadata": {},
     "output_type": "display_data"
    },
    {
     "name": "stdout",
     "output_type": "stream",
     "text": [
      "The Sum of the area is:  9.23684210526\n"
     ]
    },
    {
     "data": {
      "text/plain": [
       "9.2368421052631557"
      ]
     },
     "execution_count": 94,
     "metadata": {},
     "output_type": "execute_result"
    }
   ],
   "source": [
    "Rectangle(0,3,20)"
   ]
  },
  {
   "cell_type": "markdown",
   "metadata": {},
   "source": [
    "## 5.2 The Trapezoidal rule\n",
    "\n",
    "The rectangle approximation is easy to calculate. This, however, is a pretty poor approximation. The area\n",
    "under the rectangles is not very close to the area under the curve.\n",
    "\n",
    "A better approach is to use the trapezoids rather than rectangles.\n",
    "The area under the trapezoids is a considerably better approximation to the\n",
    "area under the curve, and this approach, though simple, often gives perfectly\n",
    "adequate results.\n"
   ]
  },
  {
   "cell_type": "code",
   "execution_count": 95,
   "metadata": {},
   "outputs": [],
   "source": [
    "import numpy as np\n",
    "import matplotlib.pyplot as plt\n",
    "\n",
    "def Trapezoid(start, end, parts, plot=1):\n",
    "    \"\"\"\n",
    "    Trapezoid sum rule\n",
    "    \n",
    "    \"\"\"\n",
    "    #define the functions\n",
    "    f = lambda x: x * x  \n",
    "    \n",
    "    #define the parameters\n",
    "    deltax = (end - start) / parts\n",
    "    resultsx = np.linspace(start, end, parts+1)\n",
    "    resultsy = f(resultsx)\n",
    "    area = np.empty([parts], float)\n",
    "\n",
    "    # To calculate the area\n",
    "    for i in range(parts):\n",
    "            area[i] = (resultsy[i]+resultsy[i+1]) * deltax/2\n",
    "\n",
    "    # By default, we also output the plot.\n",
    "    if plot==1:\n",
    "        x = np.linspace(start,end,100)\n",
    "        y = f(x)        \n",
    "        plt.plot(x, y, 'r')\n",
    "        plt.xlim([start,end])\n",
    "        \n",
    "        y2 = np.array([0,0])\n",
    "        for i in range(parts):\n",
    "            x0 = resultsx[i:i+2]\n",
    "            y1 = resultsy[i:i+2]\n",
    "            plt.fill_between(x0, y1, y2, where=y1>=y2, facecolor='blue')\n",
    "            linex, liney = [resultsx[i+1], resultsx[i+1]], [0, resultsy[i+1]]\n",
    "            plt.plot(linex, liney, color='black', linewidth=2.0)        \n",
    "        \n",
    "        plt.show()\n",
    "        print(\"The Sum of the area is: \", sum(area))\n",
    "    \n",
    "    return sum(area)"
   ]
  },
  {
   "cell_type": "code",
   "execution_count": 96,
   "metadata": {},
   "outputs": [
    {
     "data": {
      "image/png": "[encoded data removed]",
      "text/plain": [
       "<matplotlib.figure.Figure at 0x188bf4d43c8>"
      ]
     },
     "metadata": {},
     "output_type": "display_data"
    },
    {
     "name": "stdout",
     "output_type": "stream",
     "text": [
      "The Sum of the area is:  9.18\n"
     ]
    },
    {
     "data": {
      "text/plain": [
       "9.1799999999999997"
      ]
     },
     "execution_count": 96,
     "metadata": {},
     "output_type": "execute_result"
    }
   ],
   "source": [
    "Trapezoid(0,3,5)"
   ]
  },
  {
   "cell_type": "code",
   "execution_count": 97,
   "metadata": {},
   "outputs": [
    {
     "data": {
      "image/png": "[encoded data removed]",
      "text/plain": [
       "<matplotlib.figure.Figure at 0x188be8a3ac8>"
      ]
     },
     "metadata": {},
     "output_type": "display_data"
    },
    {
     "name": "stdout",
     "output_type": "stream",
     "text": [
      "The Sum of the area is:  9.045\n"
     ]
    },
    {
     "data": {
      "text/plain": [
       "9.0449999999999999"
      ]
     },
     "execution_count": 97,
     "metadata": {},
     "output_type": "execute_result"
    }
   ],
   "source": [
    "Trapezoid(0,3,10)"
   ]
  },
  {
   "cell_type": "markdown",
   "metadata": {},
   "source": [
    "## 5.3 The Simpson’s rule\n",
    "\n",
    "The trapezoidal rule is simple, taking only a few lines of code as we have seen. \n",
    "And it is often perfectly adequate for calculations where no great accuracy is required. \n",
    "It happens frequently in physics calculations that we don’t need an answer accurate to many significant\n",
    "figures and in such cases the ease and simplicity of the trapezoidal rule can\n",
    "make it the method of choice. \n",
    "\n",
    "However, there are also cases where greater accuracy is required. \n",
    "\n",
    "As we have seen we can increase the accuracy of the trapezoidal rule by _increasing the number N of steps used in the calculation_. \n",
    "\n",
    "But in some cases, _the calculation can become slow_.\n",
    "\n",
    "There are other, more advanced schemes for calculating integrals\n",
    "that can achieve high accuracy while still arriving at an answer quickly. \n",
    "\n",
    "We can often get a better result if we approximate the function instead with curves of some kind.\n",
    "\n",
    "Simpson’s rule does exactly this, using quadratic curves.\n",
    "\n",
    "In order to specify a quadratic completely \n",
    "\n",
    "__one needs three points, not just two as with a straight line.__\n",
    "\n",
    "Suppose, as before, that our integrand is denoted f(x) and the spacing of\n",
    "adjacent points is h. And suppose for the purposes of argument that we have\n",
    "three points at x = −h, 0, and +h. If we fit a quadratic Ax2 + Bx + C through\n",
    "these points, then by definition we will have:\n",
    "\n",
    "$$f(-h) = Ah^2 - Bh + C, ~~~~~~   f(0) = C,  ~~~~~~ f(h) = Ah^2 + Bh + C$$\n",
    "\n",
    "Solving these equations gives\n",
    "\n",
    "$$ A = \\frac{1}{h^2}[\\frac{f(-h)}{2} - f(0) + \\frac{f(h)}{2}], ~~~~ B=\\frac{1}{2h}[f(h)-f(-h)], ~~~~ C = f(0)$$\n",
    "\n",
    "and the area under the curve of f(x) from −h to +h is given approximately by\n",
    "the area under the quadratic:\n",
    "\n",
    "$$ \\int^h_{-h} (Ax^2 + Bx + C) dx = \\frac{2}{3}Ah^3 + 2Ch = \\frac{1/3}h[f(-h)+4f(0)+f(h)]$$\n",
    "\n",
    "This is _Simpson’s_ rule. It gives us an approximation to the area under two adjacent\n",
    "slices of our function. Note that the final formula for the area involves\n",
    "only h and the value of the function at evenly spaced points, just as with the\n",
    "trapezoidal rule. So to use Simpson’s rule we don’t actually have to worry\n",
    "about the details of fitting a quadratic—we just plug numbers into this formula\n",
    "and it gives us an answer.\n",
    "\n",
    "\n",
    "Applying Simpson’s rule involves dividing\n",
    "the domain of integration into many slices and using the rule to separately\n",
    "estimate the area under successive pairs of slices, then adding the estimates\n",
    "for all pairs to get the final answer. If, as before, we are integrating from $x$ = a\n",
    "to $x$ = b in slices of width $h$ then the three points bounding the first pair of\n",
    "slices fall at $x$ = a, a + h and a + 2h, those bounding the second pair at a + 2h,\n",
    "a + 3h, a + 4h, and so forth. Then the approximate value of the entire integral\n",
    "is given by\n",
    "\n",
    "$$ \n",
    "\\begin{aligned}\n",
    "I(a,b) \\approx & \\frac{1}{3}h[f(a)+4f(a+h)+f(a+2h)] \\\\\n",
    "               & \\frac{1}{3}h[f(a+2h)+4f(a+3h)+f(a+4h)] \\\\\n",
    "               &  ...\\\\\n",
    "               &  ...\\\\\n",
    "               & \\frac{1}{3}h[f(a+(N-2)h)+4f(a+(N-1)h)+f(b)] \n",
    "\\end{aligned}\n",
    "$$\n",
    "\n"
   ]
  },
  {
   "cell_type": "code",
   "execution_count": 99,
   "metadata": {
    "collapsed": true
   },
   "outputs": [],
   "source": [
    "import numpy as np\n",
    "import matplotlib.pyplot as plt\n",
    "\n",
    "def Simpson(start, end, parts, plot=1):\n",
    "    \"\"\"\n",
    "    Simpson sum rule\n",
    "    \n",
    "    \"\"\"\n",
    "    #define the functions\n",
    "    f = lambda x: x**4 - 2*x + 1  \n",
    "    \n",
    "    #define the parameters\n",
    "    deltax = (end - start) / parts\n",
    "    resultsx = np.linspace(start, end, parts+1)\n",
    "    resultsy = f(resultsx)\n",
    "    area = np.empty([parts], float)\n",
    "\n",
    "    #-----------------------------------------------------\n",
    "    #define the Simpson points and calculate the area here\n",
    "    #-----------------------------------------------------\n",
    "    \n",
    "    \n",
    "    # To calculate the area\n",
    "    for i in range(parts):\n",
    "            area[i] = (resultsy[i]+resultsy[i+1]) * deltax/2\n",
    "\n",
    "    # By default, we also output the plot.\n",
    "    if plotSimpson(0, 2, 10)==1:\n",
    "        x = np.linspace(start,end,100)\n",
    "        y = f(x)        \n",
    "        plt.plot(x, y, 'r')\n",
    "\n",
    "\n",
    "    #-----------------------------------------------------\n",
    "    #draw the curves based on Simpson points here\n",
    "    #-----------------------------------------------------             \n",
    "\n",
    "    \n",
    "        plt.xlim([start,end])\n",
    "        plt.ylim([min(y),max(y)])\n",
    "        plt.show()\n",
    "\n",
    "\n",
    "    \n",
    "    return sum(area)"
   ]
  },
  {
   "cell_type": "code",
   "execution_count": null,
   "metadata": {
    "collapsed": true
   },
   "outputs": [],
   "source": [
    "Simpson(0, 2, 10)"
   ]
  },
  {
   "cell_type": "markdown",
   "metadata": {},
   "source": [
    "## 5.4 Homework: \n",
    "Calculate the following integral based on three different rules\n",
    "\n",
    "$$\\int_0^3 \\text{exp}(-t^2) dt$$"
   ]
  },
  {
   "cell_type": "code",
   "execution_count": null,
   "metadata": {
    "collapsed": true
   },
   "outputs": [],
   "source": []
  }
 ],
 "metadata": {
  "kernelspec": {
   "display_name": "Python 3",
   "language": "python",
   "name": "python3"
  },
  "language_info": {
   "codemirror_mode": {
    "name": "ipython",
    "version": 3
   },
   "file_extension": ".py",
   "mimetype": "text/x-python",
   "name": "python",
   "nbconvert_exporter": "python",
   "pygments_lexer": "ipython3",
   "version": "3.6.1"
  }
 },
 "nbformat": 4,
 "nbformat_minor": 2
}
