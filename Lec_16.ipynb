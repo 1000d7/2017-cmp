{
 "cells": [
  {
   "cell_type": "markdown",
   "metadata": {},
   "source": [
    "# Physics 300 \n",
    "## Computational Physics I (Fall 2017)\n",
    "## BPB-248, Tues/Thurs 10:00 - 11:15 am \n",
    "\n",
    "|Instructor| Prof. Qiang Zhu|\n",
    "|--|-------------------------------|\n",
    "|Email | qiang.zhu@unlv.edu|\n",
    "|Website|http://www.physics.unlv.edu/~qzhu/|\n",
    "|Office| BPB 232|\n",
    "|Office hours | Tues/Thurs 8:30 - 10:00 |"
   ]
  },
  {
   "cell_type": "markdown",
   "metadata": {},
   "source": [
    "# 16 Random Number (II)\n",
    "\n",
    "It happens frequently when writing computer programs for physics calculations that you want some even to take place randomly\n",
    "with a probability $p$. For instance, with probability 0.2, you want a particle to move, otherwise not.\n",
    "This kind of behavior is straightforward to create.\n",
    "\n",
    "```python\n",
    "from random import random\n",
    "if random()<0.2:\n",
    "    print(\"Move\")\n",
    "else:\n",
    "    print(\"Stay\")\n",
    "```\n",
    "\n",
    "## 16.1 Bownian Motion\n",
    "Brownian motion is the motion of a particle, such as a smoke or dust paticle, in a gas, as it is buffered by random collisions\n",
    "with gas molecules. Make a simple computer simulation of such a particle in two dimensions as follows.\n",
    "\n",
    "- 1, __Initilization__. The particle is confined to a square grid or lattice L\\*L squares on a side, so that its poistion can be represented by two integers i,j = 0 ... L-1. It starts in the middle of the grid. \n",
    "- 2, __Random Walk__. On each step of the simulation, choose a random direction - up, down, left, or right - and move the particle one step in that direction\n",
    "- 3, __Boundary condition__. If the particle goes outside the limits of the lattice, reject it, and choose a new random direction.\n",
    "\n",
    "Write a program to perform a 1000 steps of this proces on a lattice with $L$ = 101.\n"
   ]
  },
  {
   "cell_type": "markdown",
   "metadata": {},
   "source": [
    "## 16.2 Non-uniform Random Numbers\n",
    "\n",
    "All the python random number functions we have decribed generate uniformly distributed random numbers - all values that can \n",
    "be returned by these functions occur with equal probability. In physics, however, there are many processes that happen\n",
    "with nonuniform probability. \n",
    "\n",
    "### 16.2.1 Decay of an isotope\n",
    "The radioisotope $^{201}$Tl decays to $^{208}$ with a half-life of 3.053 minutes. Suppose we start with a sample of 1000 thallium atoms. Let us simulate the decay of these atoms over time, mimicking the randomness of that decay using random numbers.\n",
    "\n",
    "On average we know that the number N of atoms in our sample will fall off exponentially over time according to the standard equation of radioactive decay:\n",
    "$$ N(t) = N(0) 2^{-t/\\tau}$$\n",
    "\n",
    "where $\\tau$ is the half-life. Then the fraction of atoms remaining after time $t$ is \n",
    "\n",
    "$$N(t)/N(0) = 2^{-t/\\tau}$$\n",
    "\n",
    "Simulate the decay process as a function of time.\n"
   ]
  },
  {
   "cell_type": "code",
   "execution_count": 9,
   "metadata": {},
   "outputs": [
    {
     "data": {
      "image/png": "[encoded data removed]",
      "text/plain": [
       "<matplotlib.figure.Figure at 0x196b0c29400>"
      ]
     },
     "metadata": {},
     "output_type": "display_data"
    }
   ],
   "source": [
    "## Decay process\n",
    "import numpy as np\n",
    "import matplotlib.pyplot as plt\n",
    "\n",
    "\n",
    "# Initial parameters\n",
    "NTl = 1000\n",
    "NPb = 0\n",
    "tau = 3.053*60\n",
    "dt = 1 \n",
    "p = 1 - 2**(-dt/tau)\n",
    "tmax = 1000\n",
    "\n",
    "t_points = np.arange(0.0, tmax, dt)\n",
    "Tl = []\n",
    "Pb = []\n",
    "\n",
    "for t in t_points:\n",
    "    Tl.append(NTl)\n",
    "    Pb.append(NPb)\n",
    "    \n",
    "    # Calculate the decayed atoms\n",
    "    decay = 0\n",
    "    for i in range(NTl):\n",
    "        if np.random.random()<p:\n",
    "            decay += 1\n",
    "    NTl -= decay\n",
    "    NPb += decay\n",
    "\n",
    "plt.plot(t_points, Tl, label='Tl')\n",
    "plt.plot(t_points, Pb, label='Pb')\n",
    "plt.xlabel(\"Time\")\n",
    "plt.ylabel(\"Number of atoms\")\n",
    "plt.legend()\n",
    "plt.show()\n"
   ]
  },
  {
   "cell_type": "markdown",
   "metadata": {},
   "source": [
    "As shown in the above, the probability that a atom decays in time t is $$1-2^{-t/\\tau}$$, and hence the probability that it decays in a time interval dt is\n",
    "$$1-2^{-dt/\\tau} = 1-\\exp(-\\frac{dt}{\\tau}\\text{ln}2) = \\frac{\\text{ln}2}{\\tau}dt$$\n",
    "\n",
    "Thus the total probability between t and t+dt is:\n",
    "\n",
    "$$P(t)dt = 2^{-t/\\tau}\\frac{\\text{ln}2}{\\tau}dt$$\n",
    "\n",
    "This is an example of non-uniform probability distribution. The decay times t are distributed in proportion to $2^{-t/\\tau}$, \n",
    "so that ealier decay times are more probable than late ones.\n",
    "\n",
    "A more efficient way to calculate the decay of a sample is to generate N random numbers from this non-uniform probability distribution, to represent the time at which each of the atom decays. Then creating curves as a function of timi, is simply a\n",
    "matter of counting how many of the atoms decay before any given time.\n",
    "\n",
    "It is possible to generate non-uniform random numbers from a wide range of different distributions, including the exponential distribution, using the previous method. If you already have a source of uniform random numbers, one could turn them into nonuniform ones using some transformation methods.\n",
    "\n",
    "Suppose you have a source of random floating numbers z from a distribution with a probability of q(z). And supposed that you have a function x(z). Then when z is one of our random numbers, x(z) is also a random number, but it will have different distribution according to x(z). \n",
    "\n",
    "$$p(x)dx = q(z)dz$$\n",
    "$$\\int_{-\\infty}^{x(z)} p(x')dx' = \\int_0^z dz'=z$$\n",
    "\n",
    "As an example, suppose we want to integrate random real numbers x in the interval from zero to infinity with the exponential probability distribution\n",
    "\n",
    "$$p(x)=\\mu e^{-\\mu x}$$\n",
    "\n",
    "The leading factor of $\\mu$ is necessary to make the distribution properly normalized. This is the same distribution that in the radioactive decay problem above, where $\\mu=\\text{ln}2/\\tau$.\n",
    "\n",
    "For this distribution,\n",
    "$$\\mu \\int_0^{x(z)} e^{-\\mu x'} dx' = 1-e^{\\mu x} = z$$\n",
    "\n",
    "Therefore,\n",
    "\n",
    "$$x = \\frac{1}{\\mu}\\text{ln}(1-z)$$\n",
    "\n",
    "So all we need is to generate uniform random numbers z in the interval from zero to one and feed them into this equation to get exponentially distributed x values."
   ]
  },
  {
   "cell_type": "markdown",
   "metadata": {},
   "source": [
    "## 16.4 Homework\n",
    "- 1, Import the visual package in python to make an animation on the screen of the position of the particle in Brownian motion.\n",
    "- 2, rewrite the radioactive decay, to generate 1000 random numbers following the non-uniformed distribution."
   ]
  },
  {
   "cell_type": "code",
   "execution_count": null,
   "metadata": {
    "collapsed": true
   },
   "outputs": [],
   "source": []
  }
 ],
 "metadata": {
  "kernelspec": {
   "display_name": "Python 3",
   "language": "python",
   "name": "python3"
  },
  "language_info": {
   "codemirror_mode": {
    "name": "ipython",
    "version": 3
   },
   "file_extension": ".py",
   "mimetype": "text/x-python",
   "name": "python",
   "nbconvert_exporter": "python",
   "pygments_lexer": "ipython3",
   "version": "3.6.1"
  }
 },
 "nbformat": 4,
 "nbformat_minor": 2
}
