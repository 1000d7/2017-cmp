{
 "cells": [
  {
   "cell_type": "markdown",
   "metadata": {},
   "source": [
    "# Physics 300 \n",
    "## Computational Physics I (Fall 2017), BPB-248, Tues/Thurs 10:00 - 11:15 am \n",
    "\n",
    "|Instructor| Prof. Qiang Zhu|\n",
    "|--|-------------------------------|\n",
    "|Email | qiang.zhu@unlv.edu|\n",
    "|Website|http://www.physics.unlv.edu/~qzhu/|\n",
    "|Office| BPB 232|\n",
    "|Office hours | Tues/Thurs 8:30 - 10:00 |\n",
    "\n",
    "## Course Outline:\n",
    "\n",
    "|Weeks | Subjects|\n",
    "|------|:--------:|\n",
    "|1     |Python basics I (installation, variables, list, loops)|\n",
    "|2     |Python basics II (function, advanced libraries)|\n",
    "|3     |Integrals/dervitives|\n",
    "|4     |Fitting/interpolation|\n",
    "|5     |Fourier transform|\n",
    "|6     |X-ray diffraction|\n",
    "|7     |Monte Carlo|\n",
    "|8     |Optmization I (steep Desent, conjungated gradient)|\n",
    "|9     |Optmization II (evolutinary algorithm, particle swarm optimization)|\n",
    "|10    |Molecular Dynamics I (simulation)|\n",
    "|11    |Molecular Dynamics II (post-analysis)|\n",
    "|12    |Machine Learning I (regression, clustering)|\n",
    "|13    | Machine Learning II (applications)|\n",
    "|14    |Machine Learning III (database)|\n",
    "\n",
    "## Prerequisite: Prerequisites PHYS 152, PHYS 152L or PHYS 180\n",
    "## Credit Hours: 3\n",
    "## Textbook: _Computational Physics, M. Newman (not required)_\n",
    "\n",
    "## Grade Distribution:\n",
    "|Items|Percentage|\n",
    "|-----------|----|\n",
    "|Attendance        |10%|\n",
    "|Problems and Quiz| 20%|\n",
    "|Projects | 40% |\n",
    "|Final Exam (oral) | 30% |\n",
    "\n",
    "## Course Description:\n",
    "\n",
    "This course teaches students to write write programs to solve simple physics programs on the computer. There will be weekly assignment and two projects during the semester. There will be an oral exam in the end of semester. __Please bring your laptop to class.__ Barring documentable emergencies or observance of a certifable regious holiday, all exams must be taken at the time and place specified.\n",
    "\n"
   ]
  },
  {
   "cell_type": "markdown",
   "metadata": {},
   "source": [
    "# 1 Python Basics\n",
    "## 1.1 Python Installation\n",
    "\n",
    "## Conda\n",
    "The best way set-up an scientific Python environment is to use the cross-platform package manager conda from Continuum Analytics. First download and install miniconda http://conda.pydata.org/miniconda.html or Anaconda (see below). Next, to install the required libraries for these notebooks, simply run:\n",
    "    \n",
    "    $ conda install jupyter spyder numpy scipy sympy matplotlib cython\n",
    "\n"
   ]
  },
  {
   "cell_type": "code",
   "execution_count": 50,
   "metadata": {
    "collapsed": false
   },
   "outputs": [
    {
     "name": "stdout",
     "output_type": "stream",
     "text": [
      " hello, this is physics 300\n"
     ]
    }
   ],
   "source": [
    "#get started\n",
    "print(\"hello, this is physics 300\")"
   ]
  },
  {
   "cell_type": "markdown",
   "metadata": {},
   "source": [
    "# 1.2 Variables and types\n",
    "    Variable names in Python can contain alphanumerical characters a-z, A-Z, 0-9 and some special characters such as _. \n",
    "    Normal variable names must start with a letter.\n",
    "    By convention, variable names start with a lower-case letter, and Class names start with a capital letter.\n",
    "    In addition, there are a number of Python keywords that cannot be used as variable names. \n",
    "    $ and, as, assert, print......\n",
    "    \n"
   ]
  },
  {
   "cell_type": "code",
   "execution_count": 3,
   "metadata": {
    "collapsed": true
   },
   "outputs": [],
   "source": [
    "# variable assignments\n",
    "#The assignment operator in Python is =. \n",
    "#Python is a dynamically typed language, different from C/C++, no need to specify the type of a variable\n",
    "\n",
    "x = 1.0"
   ]
  },
  {
   "cell_type": "code",
   "execution_count": 4,
   "metadata": {
    "collapsed": false
   },
   "outputs": [
    {
     "name": "stdout",
     "output_type": "stream",
     "text": [
      "1.0 <type 'float'>\n"
     ]
    }
   ],
   "source": [
    "print x, type(x)"
   ]
  },
  {
   "cell_type": "code",
   "execution_count": 5,
   "metadata": {
    "collapsed": false
   },
   "outputs": [
    {
     "name": "stdout",
     "output_type": "stream",
     "text": [
      "12 <type 'int'>\n"
     ]
    }
   ],
   "source": [
    "my_variable = 12\n",
    "print my_variable, type(my_variable)"
   ]
  },
  {
   "cell_type": "code",
   "execution_count": 6,
   "metadata": {
    "collapsed": true
   },
   "outputs": [],
   "source": [
    "# Fundamental Variables and types\n",
    "# integers\n",
    "# float\n",
    "# bollean\n",
    "# complex\n",
    "a = 1\n",
    "b = 2.0\n",
    "c = True\n",
    "d = 1+1.0j"
   ]
  },
  {
   "cell_type": "code",
   "execution_count": 7,
   "metadata": {
    "collapsed": false
   },
   "outputs": [
    {
     "name": "stdout",
     "output_type": "stream",
     "text": [
      "1 <type 'int'>\n",
      "2.0 <type 'float'>\n",
      "True <type 'bool'>\n",
      "(1+1j) <type 'complex'>\n"
     ]
    }
   ],
   "source": [
    "print a, type(a)\n",
    "print b, type(b)\n",
    "print c, type(c)\n",
    "print d, type(d)"
   ]
  },
  {
   "cell_type": "markdown",
   "metadata": {},
   "source": [
    "# Quiz: \n",
    "    1, how to find the real and imaginary part for a complex variable\n",
    "    2, why do we need to set different types of variables for interger and float, instead of using just complex type?\n",
    "    3, how to define the variables in other languages like Matlab, C, C++, Java?"
   ]
  },
  {
   "cell_type": "code",
   "execution_count": null,
   "metadata": {
    "collapsed": true
   },
   "outputs": [],
   "source": []
  },
  {
   "cell_type": "markdown",
   "metadata": {},
   "source": [
    "# 1.3 Operators and comparisons\n",
    "\n",
    "    Most operators and comparisons in Python work as one would expect:\n",
    "\n",
    "    Arithmetic operators +, -, *, /, // (integer division), '**' power\n"
   ]
  },
  {
   "cell_type": "code",
   "execution_count": 10,
   "metadata": {
    "collapsed": false
   },
   "outputs": [
    {
     "name": "stdout",
     "output_type": "stream",
     "text": [
      "3 -1 2 0 0 2\n",
      "False False True\n"
     ]
    }
   ],
   "source": [
    "x, y = 1, 2\n",
    "print x+y, x-y, x*y, x/y, x//y, y**x\n",
    "print x>y, x==y, x<y"
   ]
  },
  {
   "cell_type": "code",
   "execution_count": 25,
   "metadata": {
    "collapsed": false
   },
   "outputs": [
    {
     "name": "stdout",
     "output_type": "stream",
     "text": [
      "0.841470984808 0.540302305868\n"
     ]
    }
   ],
   "source": [
    "# Advanced functions? sin, cos\n",
    "from math import sin, cos\n",
    "print sin(x), cos(x)"
   ]
  },
  {
   "cell_type": "markdown",
   "metadata": {},
   "source": [
    "# 1.4 Compound types\n",
    "\n",
    "## Strings\n",
    "## List\n",
    "## Dictionaries (after-class study)"
   ]
  },
  {
   "cell_type": "code",
   "execution_count": 11,
   "metadata": {
    "collapsed": false
   },
   "outputs": [
    {
     "name": "stdout",
     "output_type": "stream",
     "text": [
      "Welcome to Physics 300 <type 'str'>\n"
     ]
    }
   ],
   "source": [
    "Strings = \"Welcome to Physics 300\"\n",
    "print Strings, type(Strings)"
   ]
  },
  {
   "cell_type": "code",
   "execution_count": 13,
   "metadata": {
    "collapsed": false
   },
   "outputs": [
    {
     "name": "stdout",
     "output_type": "stream",
     "text": [
      "['Welcome to Physics 300'] <type 'list'>\n"
     ]
    }
   ],
   "source": [
    "Lists = ['Welcome to Physics 300']\n",
    "print Lists, type(Lists)"
   ]
  },
  {
   "cell_type": "markdown",
   "metadata": {},
   "source": [
    "# Quizies: What are the differences?"
   ]
  },
  {
   "cell_type": "code",
   "execution_count": 32,
   "metadata": {
    "collapsed": false
   },
   "outputs": [],
   "source": [
    "# a few more tricks\n",
    "# len(Strings)\n",
    "# dir(Strings), check its attributes\n",
    "# help(Strings.replace)\n",
    "#dir(Strings)\n",
    "#help(Strings.isalpha)\n",
    "#dir(Lists)"
   ]
  },
  {
   "cell_type": "code",
   "execution_count": 23,
   "metadata": {
    "collapsed": false
   },
   "outputs": [
    {
     "name": "stdout",
     "output_type": "stream",
     "text": [
      "['Welcome to Physics 300', 2, 2]\n"
     ]
    }
   ],
   "source": [
    "# Lists are very similar to strings, except that each element can be of any type.\n",
    "# You can do different types of operations on List\n",
    "# List is like an array, you can call its elements according to index\n",
    "# You can call one element, and many element as well\n",
    "\n",
    "Lists.append(2)\n",
    "print Lists"
   ]
  },
  {
   "cell_type": "markdown",
   "metadata": {},
   "source": [
    "# for loops\n",
    "In python, we can visit the list by for loop. The most common is the for loop, which is used together with iterable objects, such as lists. The basic syntax is:\n",
    "\n"
   ]
  },
  {
   "cell_type": "code",
   "execution_count": 47,
   "metadata": {
    "collapsed": false
   },
   "outputs": [
    {
     "name": "stdout",
     "output_type": "stream",
     "text": [
      "1\n",
      "2\n",
      "3\n"
     ]
    }
   ],
   "source": [
    "for x in [1,2,3]:\n",
    "    print(x)"
   ]
  },
  {
   "cell_type": "markdown",
   "metadata": {},
   "source": [
    "# Exercise\n",
    "In 1888 Johannes Rydberg published his famous formula for the wavelengths $\\lambda$ of the emissioon lines of the hydrogen atom \n",
    "\n",
    "\n",
    "$$\\frac{1}{\\lambda} = R (\\frac{1}{m^2} - \\frac{1}{n^2})$$\n",
    "\n",
    "Where $R$ is the Rydberg constant = 1.097 $\\times$ $10^{-2} \\text{nm}^{-1}$, $m$ and $n$ are positive integers. For a given value of $m$, $\\lambda$ is given for this formula for all $n>m$ series, the first three series are known as the Lyman, Belmer and Paschen series, named after their discoverers. Can you write a code to compute the first three series for the first five lines?"
   ]
  },
  {
   "cell_type": "code",
   "execution_count": 3,
   "metadata": {
    "collapsed": false
   },
   "outputs": [
    {
     "name": "stdout",
     "output_type": "stream",
     "text": [
      "Series for m =  1\n",
      "n= 2    91.1577028259 nm\n",
      "n= 3    91.1577028259 nm\n",
      "n= 4    91.1577028259 nm\n",
      "n= 5    91.1577028259 nm\n",
      "n= 6    91.1577028259 nm\n",
      "Series for m =  2\n",
      "n= 3    364.630811304 nm\n",
      "n= 4    364.630811304 nm\n",
      "n= 5    364.630811304 nm\n",
      "n= 6    364.630811304 nm\n",
      "n= 7    364.630811304 nm\n",
      "Series for m =  3\n",
      "n= 4    820.419325433 nm\n",
      "n= 5    820.419325433 nm\n",
      "n= 6    820.419325433 nm\n",
      "n= 7    820.419325433 nm\n",
      "n= 8    820.419325433 nm\n"
     ]
    }
   ],
   "source": [
    "R = 1.097e-2\n",
    "for m in [1,2,3]:\n",
    "    print \"Series for m = \", m\n",
    "    for k in [1,2,3,4,5]:\n",
    "        n = m + k\n",
    "        invlambda = R*(1.0/m**2 - 1/n**2)\n",
    "        print \"n=\",n, \"  \", 1/invlambda, \"nm\"\n",
    "        #print m, n, 1/m**2, 1/n**2\n"
   ]
  },
  {
   "cell_type": "code",
   "execution_count": null,
   "metadata": {
    "collapsed": true
   },
   "outputs": [],
   "source": []
  }
 ],
 "metadata": {
  "kernelspec": {
   "display_name": "Python 2",
   "language": "python",
   "name": "python2"
  },
  "language_info": {
   "codemirror_mode": {
    "name": "ipython",
    "version": 2
   },
   "file_extension": ".py",
   "mimetype": "text/x-python",
   "name": "python",
   "nbconvert_exporter": "python",
   "pygments_lexer": "ipython2",
   "version": "2.7.13"
  }
 },
 "nbformat": 4,
 "nbformat_minor": 2
}
