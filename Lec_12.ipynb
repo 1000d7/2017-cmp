{
 "cells": [
  {
   "cell_type": "markdown",
   "metadata": {},
   "source": [
    "# Physics 300 \n",
    "## Computational Physics I (Fall 2017)\n",
    "## BPB-248, Tues/Thurs 10:00 - 11:15 am \n",
    "\n",
    "|Instructor| Prof. Qiang Zhu|\n",
    "|--|-------------------------------|\n",
    "|Email | qiang.zhu@unlv.edu|\n",
    "|Website|http://www.physics.unlv.edu/~qzhu/|\n",
    "|Office| BPB 232|\n",
    "|Office hours | Tues/Thurs 8:30 - 10:00 |"
   ]
  },
  {
   "cell_type": "markdown",
   "metadata": {},
   "source": [
    "# 12 X-ray diffraction II\n",
    "\n",
    "We haven't learned some basic theories regarding how to calculate the PXRD in the last classes. \n",
    "Now we are going to assemble all the codes which we have to complete the entire project.\n"
   ]
  },
  {
   "cell_type": "markdown",
   "metadata": {},
   "source": [
    "## 12.1 Interplanar spacing\n",
    "\n",
    "How many differents spacing we can have in a crystal? If we represent the crystal as a periodic packing of atoms in the three dimensional space. According to the [_Miller indices_](https://en.wikipedia.org/wiki/Miller_index), \n",
    "we can calculate any arbitray $d_{hkl}$ from 1/$g_{hkl}$ based on the reciprocal lattice\n",
    "\n",
    "$$g_{hkl} = h \\cdot b1 + k \\cdot b2 + c \\cdot b3 $$\n",
    "\n",
    "where $b1, b2, b3$ are the reciprocal lattice vectors, which satisfy the following conditions:\n",
    "$$ b1 = \\frac{a2 \\times a3} {V}$$\n",
    "$$ b2 = \\frac{a3 \\times a1} {V}$$\n",
    "$$ b3 = \\frac{a1 \\times a2} {V}$$\n",
    "\n",
    "in which $V$ is the volume of the real space lattice.\n",
    "\n",
    "Suppose the box is a cube described by\n",
    "$$\n",
    "\\begin{bmatrix}\n",
    "    a & 0 & 0 \\\\\n",
    "    0 & a & 0 \\\\\n",
    "    0 & 0 & a\n",
    "\\end{bmatrix}\n",
    "$$\n",
    "\n",
    "It is much easier for the case of cubic lattice, in which b1=b2=b3=1/a. \n",
    "Therefore, the interplanar spacing $d$ is\n",
    "\n",
    "$$ d_{hkl} = \\frac{a}{\\sqrt{h^2+k^2+l^2}} $$\n",
    "\n",
    "Remember that the truncation of (hkl) planes is\n",
    "\n",
    "$$ d_\\text{min} = \\frac{\\lambda}{2}$$\n",
    "\n",
    "according to the Bragg's law."
   ]
  },
  {
   "cell_type": "code",
   "execution_count": 15,
   "metadata": {},
   "outputs": [
    {
     "name": "stdout",
     "output_type": "stream",
     "text": [
      "388\n"
     ]
    }
   ],
   "source": [
    "# Write a program to calculate all possible (hkl) planes and the corresponding d spacing for the following condition\n",
    "# 1, wavelength is 1.5487 Å \n",
    "# 2, lattice is a cube with a unit length of 3.5 Å.\n",
    "from math import sqrt\n",
    "\n",
    "def all_dhkl(a, wavelength):\n",
    "    \"\"\" 3x3 representation -> 1x6 (a, b, c, alpha, beta, gamma)\"\"\"\n",
    "    d_min = wavelength/2\n",
    "    d_hkl = []\n",
    "    hkl_list = []\n",
    "    h1 = int(a/d_min)\n",
    "\n",
    "    for h in range(-h1,h1+1):\n",
    "        for k in range(-h1,h1+1):\n",
    "            for l in range(-h1,h1+1):\n",
    "                sum_d = sqrt(h**2+k**2+l**2)\n",
    "                if sum_d > 0 and a/sum_d > d_min:\n",
    "                    d_hkl.append(a/sum_d)\n",
    "                    hkl_list.append([h,k,l])\n",
    "\n",
    "    return hkl_list\n",
    "\n",
    "hkl_list = all_dhkl(3.5, 1.5487)\n",
    "print(len(hkl_list))"
   ]
  },
  {
   "cell_type": "markdown",
   "metadata": {},
   "source": [
    "## 12.2 Internsity\n",
    "\n",
    "The scattering intensity of the incident X-rays is more complicated, which is determined by the atomic scattering factor and the structure factor.\n",
    "\n",
    "### 12.2.1 Atomic scattering factor \n",
    "\n",
    "The atomic scattering factor ($f$) is a measure of the scattering amplitude of a wave by an isolated atom.\n",
    "Naively, we can think that the more electrons an atom has, the stronger factor it is (why?).\n",
    "Furthermore, the factor is also angle dependent. It is impossible to derive the analytic formula for this relation.\n",
    "Instead, a possible solution is to measure the data experimentally and then fit it into some particular form.\n",
    "\n",
    "The way which we are using is a 9-parameter equation by Don Cromer and J. Mann (http://www.ruppweb.org/Xray/comp/scatfac.htm):\n",
    "\n",
    "$$f(\\frac{\\sin\\theta}{\\lambda}) = \\sum_{i=1}^4 a_i e^{-b_i(\\frac{\\sin(\\theta)}{\\lambda})^2} + c $$\n",
    "\n",
    "where $a_i, b_i, c$ (i =1,2,3,4) are Cromer-Mann coefficients.\n",
    "\n",
    "The source of data is also available on line:\n",
    "https://physics.nist.gov/PhysRefData/FFast/html/form.html\n",
    "\n",
    "\n",
    "For simplicity, let's just consider the compound of NaCl. The parameters are the followings:\n",
    "\n",
    "\n",
    "|Element| a1 | a2 | a3 | a4 | b1 | b2 | b3 | b4 | c |\n",
    "|-------|----|----|----|----|----|----|----|----|---|\n",
    "|Na |4.763 |3.174 | 1.267|1.113|3.285|8.842|0.314|129.424|0.676|\n",
    "|Cl |11.460|7.196 |6.256 |1.645|0.010|1.166|18.519|47.778|-9.557|\n",
    "\n",
    "\n",
    "### 12.2.2 Structure factor\n",
    "\n",
    "Structure factor is a mathematical descriptor of a material scatters incident radiation, \n",
    "by looping over all atoms in the crystal unit cell.,\n",
    "\n",
    "$$ F = \\sum_{j=1}^n f_j e^{[2\\pi \\dot i(hx_j + ky_j + lz_j)]}$$\n",
    "\n",
    "where \n",
    "\n",
    "- {f_j} is the atomic scattering factor of the $j$-th atom, \n",
    "- $h, k, l$ are Miller indices\n",
    "- $x_j, y_j, z_j$ are the coordinates of the $j$-th atom in space. \n",
    "\n",
    "Note for each $\\theta$ or $d$, there would be a corresponding $F$ value, and the $F$ could be a complex number.\n",
    "\n",
    "Ideally, the intensity would be just the powder of $F$\n",
    "\n",
    "$$ I = |F|^2 $$\n",
    "\n",
    "### 12.2.3 Corrections\n",
    "\n",
    "However, we will still need to do a couple of corrections to obtain the intensity in real life.\n",
    "It is obvious that the direction of polarisation of an X-ray photon can change as a result of scattering/diffraction. In fact there are two extreme cases to consider; when the change is maximal or when there is no change, depending on whether the initial polarisation is or is not in the plane containing the pre- and post-scattered X-rays:\n",
    "- 1: Polarization in plane of scattering, $P=\\cos^2 2\\theta$\n",
    "- 2: Polarization perpendicular to plane of scattering, $P=1$\n",
    "- 3: the average: $P=(1+\\cos^2 2\\theta)/2$\n",
    "\n",
    "Moreover, the incoming X-rays are not strictly parallel, which induced a so called _Lorentz-polarization factor_ which depends on the different experimental setup.\n",
    "\n",
    "- 1: Laues Diffraction:  $1/\\sin^2 \\theta$\n",
    "- 2: Powder Diffraction: $1/(2\\sin^2 \\theta \\cos\\theta$)\n",
    "\n",
    "In our case, let's just use the following corrections:\n",
    "\n",
    "$$ I = |F|^2 \\frac{1+\\cos^2 2\\theta}{4\\sin^2 \\theta \\cos\\theta} $$\n",
    "\n",
    "\n"
   ]
  },
  {
   "cell_type": "code",
   "execution_count": 32,
   "metadata": {},
   "outputs": [],
   "source": [
    "# Write a program to calculate all possible (100) planes for the following condition\n",
    "# 1, wavelength is 1.5487 Å \n",
    "# 2, lattice is a cube with a unit length of 3.5 Å.\n",
    "# 3，coordinates are \n",
    "#    Na1(0,0,0), Na2(0,1/2,1/2), Na3(1/2,1/2,0), Na4(1/2,0,1/2)\n",
    "#    Cl1(0,1/,0), Cl2(0,0,1/2), Cl3(1/2,0,0), Cl4(1/2,1/2,1/2)\n",
    "\n",
    "\n",
    "from math import asin, sin, cos, exp, pi\n",
    "def intensity(wavelength, cubic, position, hkl):\n",
    "    \"\"\"\" Calculate intensity \"\"\"\n",
    "    h,k,l = hkl\n",
    "    d = cubic/sqrt(h**2+k**2+l**2)\n",
    "    sintheta = wavelength/2/d\n",
    "    theta = asin(sintheta)\n",
    "    f = atom_scatter(sintheta/wavelength)\n",
    "    F = structure_factor(f, position,hkl)\n",
    "    LP = 1/sin(theta)**2/cos(theta)\n",
    "    P = 1 + cos(2*theta)**2\n",
    "    I = (abs(F))**2*LP*P\n",
    "    return I\n",
    "\n",
    "def atom_scatter(d0):\n",
    "    \"\"\" N*M array; N: atoms, M: N_hkl\"\"\"\n",
    "    f = []\n",
    "    atom_type = [0,0,0,0,1,1,1,1]\n",
    "    s = [[4.763, 3.174, 1.267, 1.113, 3.285, 8.842, 0.314, 129.424, 0.676],\n",
    "         [11.460,7.196, 6.256, 1.645, 0.010, 1.166, 18.519, 47.778, -9.557]]\n",
    "    count = 0\n",
    "    for i in atom_type:\n",
    "        c = s[i]\n",
    "        f_tmp = c[0]*exp(-c[4]*d0) + c[1]*exp(-c[5]*d0) + c[2]*exp(-c[6]*d0) + c[3]*exp(-c[7]*d0) + c[8]\n",
    "        f.append(f_tmp)\n",
    "    return f\n",
    "   \n",
    "def structure_factor(f, pos, hkl):\n",
    "    \"\"\" N*1 array\"\"\"\n",
    "    F = 0\n",
    "    h,k,l=hkl\n",
    "    for fj, xyz in zip(f, pos):\n",
    "        x,y,z = xyz\n",
    "        F += fj*(-1)**(2*(h*x + k*y+ l*z))\n",
    "                    \n",
    "    return F\n",
    "                    \n"
   ]
  },
  {
   "cell_type": "code",
   "execution_count": 35,
   "metadata": {},
   "outputs": [
    {
     "data": {
      "text/plain": [
       "0.0"
      ]
     },
     "execution_count": 35,
     "metadata": {},
     "output_type": "execute_result"
    }
   ],
   "source": [
    "pos =  [[0,0,0],\n",
    "        [0.5,0.5,0],\n",
    "        [0,0.5,0.5],\n",
    "        [0.5,0,0.5],\n",
    "        [0.5,0.5,0.5],\n",
    "        [0.5,0,0],\n",
    "        [0,0,0.5],\n",
    "        [0,0.5,0]]\n",
    "intensity(1.5487, 5.692, pos, [3,0,0])"
   ]
  },
  {
   "cell_type": "markdown",
   "metadata": {
    "collapsed": true
   },
   "source": [
    "## 12.3 Further Reading\n",
    "\n",
    "\n",
    "### Code\n",
    "I also created a github page while preparing for the lecture notes\n",
    "https://github.com/qzhu2017/XRD"
   ]
  },
  {
   "cell_type": "code",
   "execution_count": null,
   "metadata": {
    "collapsed": true
   },
   "outputs": [],
   "source": []
  }
 ],
 "metadata": {
  "kernelspec": {
   "display_name": "Python 3",
   "language": "python",
   "name": "python3"
  },
  "language_info": {
   "codemirror_mode": {
    "name": "ipython",
    "version": 3
   },
   "file_extension": ".py",
   "mimetype": "text/x-python",
   "name": "python",
   "nbconvert_exporter": "python",
   "pygments_lexer": "ipython3",
   "version": "3.6.1"
  }
 },
 "nbformat": 4,
 "nbformat_minor": 2
}
